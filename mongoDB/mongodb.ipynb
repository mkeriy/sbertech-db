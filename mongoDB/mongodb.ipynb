{
 "cells": [
  {
   "cell_type": "code",
   "execution_count": 528,
   "metadata": {},
   "outputs": [],
   "source": [
    "#libs\n",
    "import pymongo\n",
    "from ucimlrepo import fetch_ucirepo\n",
    "import random"
   ]
  },
  {
   "cell_type": "markdown",
   "metadata": {},
   "source": [
    "### Подготовка данных для загрузки в базу"
   ]
  },
  {
   "cell_type": "code",
   "execution_count": 529,
   "metadata": {},
   "outputs": [],
   "source": [
    "wine_quality = fetch_ucirepo(id=186) \n",
    "df = wine_quality.data.original\n",
    "df.insert(0, 'bottle', list(range(len(df))))\n",
    "data = df.to_dict('records')\n"
   ]
  },
  {
   "cell_type": "markdown",
   "metadata": {},
   "source": [
    "### Подключение и создание базы"
   ]
  },
  {
   "cell_type": "code",
   "execution_count": 530,
   "metadata": {},
   "outputs": [],
   "source": [
    "# Connect to mongo\n",
    "client = pymongo.MongoClient(\"mongodb://localhost:27017/\")\n",
    "\n",
    "# Create table\n",
    "db = client[\"wine\"]\n",
    "\n",
    "# Create collection \n",
    "collection = db[\"bottles\"]"
   ]
  },
  {
   "cell_type": "markdown",
   "metadata": {},
   "source": [
    "# Create / Загрузка датасета "
   ]
  },
  {
   "cell_type": "code",
   "execution_count": 531,
   "metadata": {},
   "outputs": [
    {
     "data": {
      "text/plain": [
       "True"
      ]
     },
     "execution_count": 531,
     "metadata": {},
     "output_type": "execute_result"
    }
   ],
   "source": [
    "collection.insert_many(data)\n",
    "collection.count_documents({}) == len(df)"
   ]
  },
  {
   "cell_type": "code",
   "execution_count": 532,
   "metadata": {},
   "outputs": [
    {
     "data": {
      "text/plain": [
       "['bottles']"
      ]
     },
     "execution_count": 532,
     "metadata": {},
     "output_type": "execute_result"
    }
   ],
   "source": [
    "db.list_collection_names()"
   ]
  },
  {
   "cell_type": "markdown",
   "metadata": {},
   "source": [
    "Видно, что была создана колекция bottles и в ней столько же документов, что было в датасете"
   ]
  },
  {
   "cell_type": "markdown",
   "metadata": {},
   "source": [
    "# Read"
   ]
  },
  {
   "cell_type": "code",
   "execution_count": 533,
   "metadata": {},
   "outputs": [
    {
     "data": {
      "text/html": [
       "<div>\n",
       "<style scoped>\n",
       "    .dataframe tbody tr th:only-of-type {\n",
       "        vertical-align: middle;\n",
       "    }\n",
       "\n",
       "    .dataframe tbody tr th {\n",
       "        vertical-align: top;\n",
       "    }\n",
       "\n",
       "    .dataframe thead th {\n",
       "        text-align: right;\n",
       "    }\n",
       "</style>\n",
       "<table border=\"1\" class=\"dataframe\">\n",
       "  <thead>\n",
       "    <tr style=\"text-align: right;\">\n",
       "      <th></th>\n",
       "      <th>bottle</th>\n",
       "      <th>fixed_acidity</th>\n",
       "      <th>volatile_acidity</th>\n",
       "      <th>citric_acid</th>\n",
       "      <th>residual_sugar</th>\n",
       "      <th>chlorides</th>\n",
       "      <th>free_sulfur_dioxide</th>\n",
       "      <th>total_sulfur_dioxide</th>\n",
       "      <th>density</th>\n",
       "      <th>pH</th>\n",
       "      <th>sulphates</th>\n",
       "      <th>alcohol</th>\n",
       "      <th>quality</th>\n",
       "      <th>color</th>\n",
       "    </tr>\n",
       "  </thead>\n",
       "  <tbody>\n",
       "    <tr>\n",
       "      <th>0</th>\n",
       "      <td>0</td>\n",
       "      <td>7.4</td>\n",
       "      <td>0.70</td>\n",
       "      <td>0.00</td>\n",
       "      <td>1.9</td>\n",
       "      <td>0.076</td>\n",
       "      <td>11.0</td>\n",
       "      <td>34.0</td>\n",
       "      <td>0.99780</td>\n",
       "      <td>3.51</td>\n",
       "      <td>0.56</td>\n",
       "      <td>9.4</td>\n",
       "      <td>5</td>\n",
       "      <td>red</td>\n",
       "    </tr>\n",
       "    <tr>\n",
       "      <th>1</th>\n",
       "      <td>1</td>\n",
       "      <td>7.8</td>\n",
       "      <td>0.88</td>\n",
       "      <td>0.00</td>\n",
       "      <td>2.6</td>\n",
       "      <td>0.098</td>\n",
       "      <td>25.0</td>\n",
       "      <td>67.0</td>\n",
       "      <td>0.99680</td>\n",
       "      <td>3.20</td>\n",
       "      <td>0.68</td>\n",
       "      <td>9.8</td>\n",
       "      <td>5</td>\n",
       "      <td>red</td>\n",
       "    </tr>\n",
       "    <tr>\n",
       "      <th>2</th>\n",
       "      <td>2</td>\n",
       "      <td>7.8</td>\n",
       "      <td>0.76</td>\n",
       "      <td>0.04</td>\n",
       "      <td>2.3</td>\n",
       "      <td>0.092</td>\n",
       "      <td>15.0</td>\n",
       "      <td>54.0</td>\n",
       "      <td>0.99700</td>\n",
       "      <td>3.26</td>\n",
       "      <td>0.65</td>\n",
       "      <td>9.8</td>\n",
       "      <td>5</td>\n",
       "      <td>red</td>\n",
       "    </tr>\n",
       "    <tr>\n",
       "      <th>3</th>\n",
       "      <td>3</td>\n",
       "      <td>11.2</td>\n",
       "      <td>0.28</td>\n",
       "      <td>0.56</td>\n",
       "      <td>1.9</td>\n",
       "      <td>0.075</td>\n",
       "      <td>17.0</td>\n",
       "      <td>60.0</td>\n",
       "      <td>0.99800</td>\n",
       "      <td>3.16</td>\n",
       "      <td>0.58</td>\n",
       "      <td>9.8</td>\n",
       "      <td>6</td>\n",
       "      <td>red</td>\n",
       "    </tr>\n",
       "    <tr>\n",
       "      <th>4</th>\n",
       "      <td>4</td>\n",
       "      <td>7.4</td>\n",
       "      <td>0.70</td>\n",
       "      <td>0.00</td>\n",
       "      <td>1.9</td>\n",
       "      <td>0.076</td>\n",
       "      <td>11.0</td>\n",
       "      <td>34.0</td>\n",
       "      <td>0.99780</td>\n",
       "      <td>3.51</td>\n",
       "      <td>0.56</td>\n",
       "      <td>9.4</td>\n",
       "      <td>5</td>\n",
       "      <td>red</td>\n",
       "    </tr>\n",
       "    <tr>\n",
       "      <th>...</th>\n",
       "      <td>...</td>\n",
       "      <td>...</td>\n",
       "      <td>...</td>\n",
       "      <td>...</td>\n",
       "      <td>...</td>\n",
       "      <td>...</td>\n",
       "      <td>...</td>\n",
       "      <td>...</td>\n",
       "      <td>...</td>\n",
       "      <td>...</td>\n",
       "      <td>...</td>\n",
       "      <td>...</td>\n",
       "      <td>...</td>\n",
       "      <td>...</td>\n",
       "    </tr>\n",
       "    <tr>\n",
       "      <th>6492</th>\n",
       "      <td>6492</td>\n",
       "      <td>6.2</td>\n",
       "      <td>0.21</td>\n",
       "      <td>0.29</td>\n",
       "      <td>1.6</td>\n",
       "      <td>0.039</td>\n",
       "      <td>24.0</td>\n",
       "      <td>92.0</td>\n",
       "      <td>0.99114</td>\n",
       "      <td>3.27</td>\n",
       "      <td>0.50</td>\n",
       "      <td>11.2</td>\n",
       "      <td>6</td>\n",
       "      <td>white</td>\n",
       "    </tr>\n",
       "    <tr>\n",
       "      <th>6493</th>\n",
       "      <td>6493</td>\n",
       "      <td>6.6</td>\n",
       "      <td>0.32</td>\n",
       "      <td>0.36</td>\n",
       "      <td>8.0</td>\n",
       "      <td>0.047</td>\n",
       "      <td>57.0</td>\n",
       "      <td>168.0</td>\n",
       "      <td>0.99490</td>\n",
       "      <td>3.15</td>\n",
       "      <td>0.46</td>\n",
       "      <td>9.6</td>\n",
       "      <td>5</td>\n",
       "      <td>white</td>\n",
       "    </tr>\n",
       "    <tr>\n",
       "      <th>6494</th>\n",
       "      <td>6494</td>\n",
       "      <td>6.5</td>\n",
       "      <td>0.24</td>\n",
       "      <td>0.19</td>\n",
       "      <td>1.2</td>\n",
       "      <td>0.041</td>\n",
       "      <td>30.0</td>\n",
       "      <td>111.0</td>\n",
       "      <td>0.99254</td>\n",
       "      <td>2.99</td>\n",
       "      <td>0.46</td>\n",
       "      <td>9.4</td>\n",
       "      <td>6</td>\n",
       "      <td>white</td>\n",
       "    </tr>\n",
       "    <tr>\n",
       "      <th>6495</th>\n",
       "      <td>6495</td>\n",
       "      <td>5.5</td>\n",
       "      <td>0.29</td>\n",
       "      <td>0.30</td>\n",
       "      <td>1.1</td>\n",
       "      <td>0.022</td>\n",
       "      <td>20.0</td>\n",
       "      <td>110.0</td>\n",
       "      <td>0.98869</td>\n",
       "      <td>3.34</td>\n",
       "      <td>0.38</td>\n",
       "      <td>12.8</td>\n",
       "      <td>7</td>\n",
       "      <td>white</td>\n",
       "    </tr>\n",
       "    <tr>\n",
       "      <th>6496</th>\n",
       "      <td>6496</td>\n",
       "      <td>6.0</td>\n",
       "      <td>0.21</td>\n",
       "      <td>0.38</td>\n",
       "      <td>0.8</td>\n",
       "      <td>0.020</td>\n",
       "      <td>22.0</td>\n",
       "      <td>98.0</td>\n",
       "      <td>0.98941</td>\n",
       "      <td>3.26</td>\n",
       "      <td>0.32</td>\n",
       "      <td>11.8</td>\n",
       "      <td>6</td>\n",
       "      <td>white</td>\n",
       "    </tr>\n",
       "  </tbody>\n",
       "</table>\n",
       "<p>6497 rows × 14 columns</p>\n",
       "</div>"
      ],
      "text/plain": [
       "      bottle  fixed_acidity  volatile_acidity  citric_acid  residual_sugar  \\\n",
       "0          0            7.4              0.70         0.00             1.9   \n",
       "1          1            7.8              0.88         0.00             2.6   \n",
       "2          2            7.8              0.76         0.04             2.3   \n",
       "3          3           11.2              0.28         0.56             1.9   \n",
       "4          4            7.4              0.70         0.00             1.9   \n",
       "...      ...            ...               ...          ...             ...   \n",
       "6492    6492            6.2              0.21         0.29             1.6   \n",
       "6493    6493            6.6              0.32         0.36             8.0   \n",
       "6494    6494            6.5              0.24         0.19             1.2   \n",
       "6495    6495            5.5              0.29         0.30             1.1   \n",
       "6496    6496            6.0              0.21         0.38             0.8   \n",
       "\n",
       "      chlorides  free_sulfur_dioxide  total_sulfur_dioxide  density    pH  \\\n",
       "0         0.076                 11.0                  34.0  0.99780  3.51   \n",
       "1         0.098                 25.0                  67.0  0.99680  3.20   \n",
       "2         0.092                 15.0                  54.0  0.99700  3.26   \n",
       "3         0.075                 17.0                  60.0  0.99800  3.16   \n",
       "4         0.076                 11.0                  34.0  0.99780  3.51   \n",
       "...         ...                  ...                   ...      ...   ...   \n",
       "6492      0.039                 24.0                  92.0  0.99114  3.27   \n",
       "6493      0.047                 57.0                 168.0  0.99490  3.15   \n",
       "6494      0.041                 30.0                 111.0  0.99254  2.99   \n",
       "6495      0.022                 20.0                 110.0  0.98869  3.34   \n",
       "6496      0.020                 22.0                  98.0  0.98941  3.26   \n",
       "\n",
       "      sulphates  alcohol  quality  color  \n",
       "0          0.56      9.4        5    red  \n",
       "1          0.68      9.8        5    red  \n",
       "2          0.65      9.8        5    red  \n",
       "3          0.58      9.8        6    red  \n",
       "4          0.56      9.4        5    red  \n",
       "...         ...      ...      ...    ...  \n",
       "6492       0.50     11.2        6  white  \n",
       "6493       0.46      9.6        5  white  \n",
       "6494       0.46      9.4        6  white  \n",
       "6495       0.38     12.8        7  white  \n",
       "6496       0.32     11.8        6  white  \n",
       "\n",
       "[6497 rows x 14 columns]"
      ]
     },
     "execution_count": 533,
     "metadata": {},
     "output_type": "execute_result"
    }
   ],
   "source": [
    "df"
   ]
  },
  {
   "cell_type": "code",
   "execution_count": 534,
   "metadata": {},
   "outputs": [
    {
     "data": {
      "text/plain": [
       "{'_id': ObjectId('65f35b9219f48c60f3b03685'),\n",
       " 'bottle': 7,\n",
       " 'fixed_acidity': 7.3,\n",
       " 'volatile_acidity': 0.65,\n",
       " 'citric_acid': 0.0,\n",
       " 'residual_sugar': 1.2,\n",
       " 'chlorides': 0.065,\n",
       " 'free_sulfur_dioxide': 15.0,\n",
       " 'total_sulfur_dioxide': 21.0,\n",
       " 'density': 0.9946,\n",
       " 'pH': 3.39,\n",
       " 'sulphates': 0.47,\n",
       " 'alcohol': 10.0,\n",
       " 'quality': 7,\n",
       " 'color': 'red'}"
      ]
     },
     "execution_count": 534,
     "metadata": {},
     "output_type": "execute_result"
    }
   ],
   "source": [
    "collection.find_one({'color' : 'red', 'quality': 7})"
   ]
  },
  {
   "cell_type": "code",
   "execution_count": 535,
   "metadata": {},
   "outputs": [
    {
     "name": "stdout",
     "output_type": "stream",
     "text": [
      "{'_id': ObjectId('65f35b9219f48c60f3b03fc3'), 'bottle': 2373, 'fixed_acidity': 9.1, 'volatile_acidity': 0.27, 'citric_acid': 0.45, 'residual_sugar': 10.6, 'chlorides': 0.035, 'free_sulfur_dioxide': 28.0, 'total_sulfur_dioxide': 124.0, 'density': 0.997, 'pH': 3.2, 'sulphates': 0.46, 'alcohol': 10.4, 'quality': 9, 'color': 'white'}\n",
      "{'_id': ObjectId('65f35b9219f48c60f3b03ff1'), 'bottle': 2419, 'fixed_acidity': 6.6, 'volatile_acidity': 0.36, 'citric_acid': 0.29, 'residual_sugar': 1.6, 'chlorides': 0.021, 'free_sulfur_dioxide': 24.0, 'total_sulfur_dioxide': 85.0, 'density': 0.98965, 'pH': 3.41, 'sulphates': 0.61, 'alcohol': 12.4, 'quality': 9, 'color': 'white'}\n",
      "{'_id': ObjectId('65f35b9219f48c60f3b03ff8'), 'bottle': 2426, 'fixed_acidity': 7.4, 'volatile_acidity': 0.24, 'citric_acid': 0.36, 'residual_sugar': 2.0, 'chlorides': 0.031, 'free_sulfur_dioxide': 27.0, 'total_sulfur_dioxide': 139.0, 'density': 0.99055, 'pH': 3.28, 'sulphates': 0.48, 'alcohol': 12.5, 'quality': 9, 'color': 'white'}\n",
      "{'_id': ObjectId('65f35b9219f48c60f3b04029'), 'bottle': 2475, 'fixed_acidity': 6.9, 'volatile_acidity': 0.36, 'citric_acid': 0.34, 'residual_sugar': 4.2, 'chlorides': 0.018, 'free_sulfur_dioxide': 57.0, 'total_sulfur_dioxide': 119.0, 'density': 0.9898, 'pH': 3.28, 'sulphates': 0.36, 'alcohol': 12.7, 'quality': 9, 'color': 'white'}\n",
      "{'_id': ObjectId('65f35b9219f48c60f3b04302'), 'bottle': 3204, 'fixed_acidity': 7.1, 'volatile_acidity': 0.26, 'citric_acid': 0.49, 'residual_sugar': 2.2, 'chlorides': 0.032, 'free_sulfur_dioxide': 31.0, 'total_sulfur_dioxide': 113.0, 'density': 0.9903, 'pH': 3.37, 'sulphates': 0.42, 'alcohol': 12.9, 'quality': 9, 'color': 'white'}\n"
     ]
    }
   ],
   "source": [
    "for bottle in collection.find({'color' : 'white', 'quality': {\"$gt\": 8}, 'alcohol': {\"$lt\" : 14}}):\n",
    "    print(bottle)"
   ]
  },
  {
   "cell_type": "code",
   "execution_count": 536,
   "metadata": {},
   "outputs": [
    {
     "data": {
      "text/plain": [
       "4898"
      ]
     },
     "execution_count": 536,
     "metadata": {},
     "output_type": "execute_result"
    }
   ],
   "source": [
    "collection.count_documents({'color' : 'white'})"
   ]
  },
  {
   "cell_type": "code",
   "execution_count": 537,
   "metadata": {},
   "outputs": [
    {
     "name": "stdout",
     "output_type": "stream",
     "text": [
      "440 9.8 8\n",
      "1403 10.0 8\n",
      "495 11.0 8\n",
      "498 11.0 8\n",
      "1449 11.3 8\n",
      "1549 11.4 8\n",
      "481 11.7 8\n",
      "1202 11.7 8\n",
      "1090 11.8 8\n",
      "1061 12.5 8\n",
      "278 12.6 8\n",
      "828 12.7 8\n",
      "267 12.8 8\n",
      "390 12.9 8\n",
      "1120 13.1 8\n",
      "455 13.4 8\n",
      "588 14.0 8\n",
      "1269 14.0 8\n"
     ]
    }
   ],
   "source": [
    "for bottle in collection.find({'color' : 'red', 'quality': {\"$gt\": 7}}).sort('alcohol'):\n",
    "    print(bottle['bottle'], bottle['alcohol'], bottle['quality'])"
   ]
  },
  {
   "cell_type": "code",
   "execution_count": 538,
   "metadata": {},
   "outputs": [
    {
     "data": {
      "text/plain": [
       "['red', 'white']"
      ]
     },
     "execution_count": 538,
     "metadata": {},
     "output_type": "execute_result"
    }
   ],
   "source": [
    "collection.distinct(\"color\")"
   ]
  },
  {
   "cell_type": "code",
   "execution_count": 539,
   "metadata": {},
   "outputs": [
    {
     "data": {
      "text/plain": [
       "[3, 4, 5, 6, 7, 8, 9]"
      ]
     },
     "execution_count": 539,
     "metadata": {},
     "output_type": "execute_result"
    }
   ],
   "source": [
    "collection.distinct(\"quality\")"
   ]
  },
  {
   "cell_type": "markdown",
   "metadata": {},
   "source": [
    "#  Update"
   ]
  },
  {
   "cell_type": "code",
   "execution_count": 540,
   "metadata": {},
   "outputs": [
    {
     "data": {
      "text/plain": [
       "<pymongo.results.UpdateResult at 0x7fe03a755a80>"
      ]
     },
     "execution_count": 540,
     "metadata": {},
     "output_type": "execute_result"
    }
   ],
   "source": [
    "query = {\"quality\" : 9}\n",
    "new_values = {\"$set\": {\"quality\" : 10}}\n",
    "collection.update_many(query, new_values)"
   ]
  },
  {
   "cell_type": "code",
   "execution_count": 541,
   "metadata": {},
   "outputs": [
    {
     "data": {
      "text/plain": [
       "[3, 4, 5, 6, 7, 8, 10]"
      ]
     },
     "execution_count": 541,
     "metadata": {},
     "output_type": "execute_result"
    }
   ],
   "source": [
    "collection.distinct(\"quality\")"
   ]
  },
  {
   "cell_type": "code",
   "execution_count": 542,
   "metadata": {},
   "outputs": [
    {
     "data": {
      "text/plain": [
       "<pymongo.results.UpdateResult at 0x7fe044a62cc0>"
      ]
     },
     "execution_count": 542,
     "metadata": {},
     "output_type": "execute_result"
    }
   ],
   "source": [
    "query = {\"bottle\" : 9}\n",
    "new_values = {\"$set\": {\"quality\" : 10, 'alcohol' : 0}}\n",
    "collection.update_one(query, new_values)"
   ]
  },
  {
   "cell_type": "code",
   "execution_count": 543,
   "metadata": {},
   "outputs": [
    {
     "data": {
      "text/plain": [
       "{'_id': ObjectId('65f35b9219f48c60f3b03687'),\n",
       " 'bottle': 9,\n",
       " 'fixed_acidity': 7.5,\n",
       " 'volatile_acidity': 0.5,\n",
       " 'citric_acid': 0.36,\n",
       " 'residual_sugar': 6.1,\n",
       " 'chlorides': 0.071,\n",
       " 'free_sulfur_dioxide': 17.0,\n",
       " 'total_sulfur_dioxide': 102.0,\n",
       " 'density': 0.9978,\n",
       " 'pH': 3.35,\n",
       " 'sulphates': 0.8,\n",
       " 'alcohol': 0,\n",
       " 'quality': 10,\n",
       " 'color': 'red'}"
      ]
     },
     "execution_count": 543,
     "metadata": {},
     "output_type": "execute_result"
    }
   ],
   "source": [
    "collection.find_one({'bottle' : 9})"
   ]
  },
  {
   "cell_type": "markdown",
   "metadata": {},
   "source": [
    "# Delete"
   ]
  },
  {
   "cell_type": "code",
   "execution_count": 544,
   "metadata": {},
   "outputs": [
    {
     "data": {
      "text/plain": [
       "<pymongo.results.InsertOneResult at 0x7fe044a63d40>"
      ]
     },
     "execution_count": 544,
     "metadata": {},
     "output_type": "execute_result"
    }
   ],
   "source": [
    "collection.insert_one({'color': 'green', \"quality\" : 1})"
   ]
  },
  {
   "cell_type": "code",
   "execution_count": 545,
   "metadata": {},
   "outputs": [
    {
     "data": {
      "text/plain": [
       "{'_id': ObjectId('65f35b9219f48c60f3b04fdf'), 'color': 'green', 'quality': 1}"
      ]
     },
     "execution_count": 545,
     "metadata": {},
     "output_type": "execute_result"
    }
   ],
   "source": [
    "collection.find_one({'color': 'green'})"
   ]
  },
  {
   "cell_type": "code",
   "execution_count": 546,
   "metadata": {},
   "outputs": [
    {
     "data": {
      "text/plain": [
       "<pymongo.results.DeleteResult at 0x7fe044a77fc0>"
      ]
     },
     "execution_count": 546,
     "metadata": {},
     "output_type": "execute_result"
    }
   ],
   "source": [
    "collection.delete_one({'color': 'green'})"
   ]
  },
  {
   "cell_type": "code",
   "execution_count": 547,
   "metadata": {},
   "outputs": [],
   "source": [
    "collection.find_one({'color': 'green'})"
   ]
  },
  {
   "cell_type": "code",
   "execution_count": 548,
   "metadata": {},
   "outputs": [
    {
     "data": {
      "text/plain": [
       "<pymongo.results.DeleteResult at 0x7fe044a57480>"
      ]
     },
     "execution_count": 548,
     "metadata": {},
     "output_type": "execute_result"
    }
   ],
   "source": [
    "collection.delete_many({'quality' : 3})"
   ]
  },
  {
   "cell_type": "code",
   "execution_count": 549,
   "metadata": {},
   "outputs": [
    {
     "data": {
      "text/plain": [
       "[4, 5, 6, 7, 8, 10]"
      ]
     },
     "execution_count": 549,
     "metadata": {},
     "output_type": "execute_result"
    }
   ],
   "source": [
    "collection.distinct(\"quality\")"
   ]
  },
  {
   "cell_type": "markdown",
   "metadata": {},
   "source": [
    "# Indexes"
   ]
  },
  {
   "cell_type": "markdown",
   "metadata": {},
   "source": [
    "Нагенерим случайных документов для наглядности работы индексов"
   ]
  },
  {
   "cell_type": "code",
   "execution_count": 550,
   "metadata": {},
   "outputs": [],
   "source": [
    "random_data= []\n",
    "for i in range(1000000):\n",
    "    random_data.append({\n",
    "      \"bottle\": 6496 + i,\n",
    "      \"density\": random.random(),\n",
    "      \"pH\": random.gauss(5, 2),\n",
    "      \"sulphates\": random.random(),\n",
    "      \"alcohol\" : random.gauss(10, 5),\n",
    "      \"quality\" : random.randint(1, 10),\n",
    "      \"color\" : random.choice([\"white\", \"red\", \"pink\"])\n",
    "  })"
   ]
  },
  {
   "cell_type": "code",
   "execution_count": 551,
   "metadata": {},
   "outputs": [
    {
     "data": {
      "text/plain": [
       "1006467"
      ]
     },
     "execution_count": 551,
     "metadata": {},
     "output_type": "execute_result"
    }
   ],
   "source": [
    "collection.insert_many(random_data)\n",
    "collection.count_documents({})"
   ]
  },
  {
   "cell_type": "code",
   "execution_count": 552,
   "metadata": {},
   "outputs": [
    {
     "name": "stdout",
     "output_type": "stream",
     "text": [
      "CPU times: user 1.93 ms, sys: 1.39 ms, total: 3.31 ms\n",
      "Wall time: 570 ms\n"
     ]
    },
    {
     "data": {
      "text/plain": [
       "{'explainVersion': '1',\n",
       " 'queryPlanner': {'namespace': 'wine.bottles',\n",
       "  'indexFilterSet': False,\n",
       "  'parsedQuery': {'quality': {'$eq': 6}},\n",
       "  'queryHash': '9178AA23',\n",
       "  'planCacheKey': '9178AA23',\n",
       "  'maxIndexedOrSolutionsReached': False,\n",
       "  'maxIndexedAndSolutionsReached': False,\n",
       "  'maxScansToExplodeReached': False,\n",
       "  'winningPlan': {'stage': 'COLLSCAN',\n",
       "   'filter': {'quality': {'$eq': 6}},\n",
       "   'direction': 'forward'},\n",
       "  'rejectedPlans': []},\n",
       " 'executionStats': {'executionSuccess': True,\n",
       "  'nReturned': 103243,\n",
       "  'executionTimeMillis': 568,\n",
       "  'totalKeysExamined': 0,\n",
       "  'totalDocsExamined': 1006467,\n",
       "  'executionStages': {'stage': 'COLLSCAN',\n",
       "   'filter': {'quality': {'$eq': 6}},\n",
       "   'nReturned': 103243,\n",
       "   'executionTimeMillisEstimate': 53,\n",
       "   'works': 1006468,\n",
       "   'advanced': 103243,\n",
       "   'needTime': 903224,\n",
       "   'needYield': 0,\n",
       "   'saveState': 1006,\n",
       "   'restoreState': 1006,\n",
       "   'isEOF': 1,\n",
       "   'direction': 'forward',\n",
       "   'docsExamined': 1006467},\n",
       "  'allPlansExecution': []},\n",
       " 'command': {'find': 'bottles', 'filter': {'quality': 6}, '$db': 'wine'},\n",
       " 'serverInfo': {'host': 'a51ca4d308e7',\n",
       "  'port': 27017,\n",
       "  'version': '7.0.6',\n",
       "  'gitVersion': '66cdc1f28172cb33ff68263050d73d4ade73b9a4'},\n",
       " 'serverParameters': {'internalQueryFacetBufferSizeBytes': 104857600,\n",
       "  'internalQueryFacetMaxOutputDocSizeBytes': 104857600,\n",
       "  'internalLookupStageIntermediateDocumentMaxSizeBytes': 104857600,\n",
       "  'internalDocumentSourceGroupMaxMemoryBytes': 104857600,\n",
       "  'internalQueryMaxBlockingSortMemoryUsageBytes': 104857600,\n",
       "  'internalQueryProhibitBlockingMergeOnMongoS': 0,\n",
       "  'internalQueryMaxAddToSetBytes': 104857600,\n",
       "  'internalDocumentSourceSetWindowFieldsMaxMemoryBytes': 104857600,\n",
       "  'internalQueryFrameworkControl': 'trySbeRestricted'},\n",
       " 'ok': 1.0}"
      ]
     },
     "execution_count": 552,
     "metadata": {},
     "output_type": "execute_result"
    }
   ],
   "source": [
    "%%time\n",
    "collection.find({\"quality\" : 6}).explain()"
   ]
  },
  {
   "cell_type": "code",
   "execution_count": 553,
   "metadata": {},
   "outputs": [
    {
     "data": {
      "text/plain": [
       "'quality_1'"
      ]
     },
     "execution_count": 553,
     "metadata": {},
     "output_type": "execute_result"
    }
   ],
   "source": [
    "collection.create_index([('quality', 1)])"
   ]
  },
  {
   "cell_type": "code",
   "execution_count": 554,
   "metadata": {},
   "outputs": [
    {
     "name": "stdout",
     "output_type": "stream",
     "text": [
      "CPU times: user 1.89 ms, sys: 1.77 ms, total: 3.66 ms\n",
      "Wall time: 151 ms\n"
     ]
    },
    {
     "data": {
      "text/plain": [
       "{'explainVersion': '1',\n",
       " 'queryPlanner': {'namespace': 'wine.bottles',\n",
       "  'indexFilterSet': False,\n",
       "  'parsedQuery': {'quality': {'$eq': 6}},\n",
       "  'queryHash': '9178AA23',\n",
       "  'planCacheKey': 'B711904F',\n",
       "  'maxIndexedOrSolutionsReached': False,\n",
       "  'maxIndexedAndSolutionsReached': False,\n",
       "  'maxScansToExplodeReached': False,\n",
       "  'winningPlan': {'stage': 'FETCH',\n",
       "   'inputStage': {'stage': 'IXSCAN',\n",
       "    'keyPattern': {'quality': 1},\n",
       "    'indexName': 'quality_1',\n",
       "    'isMultiKey': False,\n",
       "    'multiKeyPaths': {'quality': []},\n",
       "    'isUnique': False,\n",
       "    'isSparse': False,\n",
       "    'isPartial': False,\n",
       "    'indexVersion': 2,\n",
       "    'direction': 'forward',\n",
       "    'indexBounds': {'quality': ['[6, 6]']}}},\n",
       "  'rejectedPlans': []},\n",
       " 'executionStats': {'executionSuccess': True,\n",
       "  'nReturned': 103243,\n",
       "  'executionTimeMillis': 149,\n",
       "  'totalKeysExamined': 103243,\n",
       "  'totalDocsExamined': 103243,\n",
       "  'executionStages': {'stage': 'FETCH',\n",
       "   'nReturned': 103243,\n",
       "   'executionTimeMillisEstimate': 23,\n",
       "   'works': 103244,\n",
       "   'advanced': 103243,\n",
       "   'needTime': 0,\n",
       "   'needYield': 0,\n",
       "   'saveState': 103,\n",
       "   'restoreState': 103,\n",
       "   'isEOF': 1,\n",
       "   'docsExamined': 103243,\n",
       "   'alreadyHasObj': 0,\n",
       "   'inputStage': {'stage': 'IXSCAN',\n",
       "    'nReturned': 103243,\n",
       "    'executionTimeMillisEstimate': 10,\n",
       "    'works': 103244,\n",
       "    'advanced': 103243,\n",
       "    'needTime': 0,\n",
       "    'needYield': 0,\n",
       "    'saveState': 103,\n",
       "    'restoreState': 103,\n",
       "    'isEOF': 1,\n",
       "    'keyPattern': {'quality': 1},\n",
       "    'indexName': 'quality_1',\n",
       "    'isMultiKey': False,\n",
       "    'multiKeyPaths': {'quality': []},\n",
       "    'isUnique': False,\n",
       "    'isSparse': False,\n",
       "    'isPartial': False,\n",
       "    'indexVersion': 2,\n",
       "    'direction': 'forward',\n",
       "    'indexBounds': {'quality': ['[6, 6]']},\n",
       "    'keysExamined': 103243,\n",
       "    'seeks': 1,\n",
       "    'dupsTested': 0,\n",
       "    'dupsDropped': 0}},\n",
       "  'allPlansExecution': []},\n",
       " 'command': {'find': 'bottles', 'filter': {'quality': 6}, '$db': 'wine'},\n",
       " 'serverInfo': {'host': 'a51ca4d308e7',\n",
       "  'port': 27017,\n",
       "  'version': '7.0.6',\n",
       "  'gitVersion': '66cdc1f28172cb33ff68263050d73d4ade73b9a4'},\n",
       " 'serverParameters': {'internalQueryFacetBufferSizeBytes': 104857600,\n",
       "  'internalQueryFacetMaxOutputDocSizeBytes': 104857600,\n",
       "  'internalLookupStageIntermediateDocumentMaxSizeBytes': 104857600,\n",
       "  'internalDocumentSourceGroupMaxMemoryBytes': 104857600,\n",
       "  'internalQueryMaxBlockingSortMemoryUsageBytes': 104857600,\n",
       "  'internalQueryProhibitBlockingMergeOnMongoS': 0,\n",
       "  'internalQueryMaxAddToSetBytes': 104857600,\n",
       "  'internalDocumentSourceSetWindowFieldsMaxMemoryBytes': 104857600,\n",
       "  'internalQueryFrameworkControl': 'trySbeRestricted'},\n",
       " 'ok': 1.0}"
      ]
     },
     "execution_count": 554,
     "metadata": {},
     "output_type": "execute_result"
    }
   ],
   "source": [
    "%%time\n",
    "collection.find({\"quality\" : 6}).explain()"
   ]
  },
  {
   "cell_type": "markdown",
   "metadata": {},
   "source": [
    "При использовании индексов наблюдается ускорение по времени работы и количеству просмотренных документов"
   ]
  },
  {
   "cell_type": "code",
   "execution_count": 555,
   "metadata": {},
   "outputs": [],
   "source": [
    "collection.drop()"
   ]
  }
 ],
 "metadata": {
  "kernelspec": {
   "display_name": "db",
   "language": "python",
   "name": "python3"
  },
  "language_info": {
   "codemirror_mode": {
    "name": "ipython",
    "version": 3
   },
   "file_extension": ".py",
   "mimetype": "text/x-python",
   "name": "python",
   "nbconvert_exporter": "python",
   "pygments_lexer": "ipython3",
   "version": "3.10.13"
  }
 },
 "nbformat": 4,
 "nbformat_minor": 2
}
